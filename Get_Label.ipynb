{
 "cells": [
  {
   "cell_type": "code",
   "execution_count": 1,
   "metadata": {
    "ExecuteTime": {
     "end_time": "2020-09-05T17:50:09.645361Z",
     "start_time": "2020-09-05T17:50:08.757595Z"
    }
   },
   "outputs": [],
   "source": [
    "import pandas as pd\n",
    "import numpy as np\n",
    "import os\n",
    "import cv2\n",
    "import matplotlib.pyplot as plt\n",
    "from PIL import Image\n",
    "import tqdm"
   ]
  },
  {
   "cell_type": "code",
   "execution_count": 2,
   "metadata": {
    "ExecuteTime": {
     "end_time": "2020-09-05T17:50:09.685011Z",
     "start_time": "2020-09-05T17:50:09.675195Z"
    }
   },
   "outputs": [],
   "source": [
    "base_dir = 'data'\n",
    "to_dir = 'train'\n",
    "to_test_dir = 'test'\n",
    "train_dir = os.path.join(base_dir, 'train')\n",
    "label_dir = os.path.join(base_dir, 'train_label.csv')\n",
    "test_dir = os.path.join(base_dir, 'test')"
   ]
  },
  {
   "cell_type": "code",
   "execution_count": 4,
   "metadata": {
    "ExecuteTime": {
     "end_time": "2020-09-05T17:50:10.514006Z",
     "start_time": "2020-09-05T17:50:10.490543Z"
    }
   },
   "outputs": [
    {
     "data": {
      "text/html": [
       "<div>\n",
       "<style scoped>\n",
       "    .dataframe tbody tr th:only-of-type {\n",
       "        vertical-align: middle;\n",
       "    }\n",
       "\n",
       "    .dataframe tbody tr th {\n",
       "        vertical-align: top;\n",
       "    }\n",
       "\n",
       "    .dataframe thead th {\n",
       "        text-align: right;\n",
       "    }\n",
       "</style>\n",
       "<table border=\"1\" class=\"dataframe\">\n",
       "  <thead>\n",
       "    <tr style=\"text-align: right;\">\n",
       "      <th></th>\n",
       "      <th>ID</th>\n",
       "      <th>label</th>\n",
       "    </tr>\n",
       "  </thead>\n",
       "  <tbody>\n",
       "    <tr>\n",
       "      <th>0</th>\n",
       "      <td>1.jpg</td>\n",
       "      <td>4Jy3</td>\n",
       "    </tr>\n",
       "    <tr>\n",
       "      <th>1</th>\n",
       "      <td>2.jpg</td>\n",
       "      <td>P6Bf</td>\n",
       "    </tr>\n",
       "    <tr>\n",
       "      <th>2</th>\n",
       "      <td>3.jpg</td>\n",
       "      <td>vJlD</td>\n",
       "    </tr>\n",
       "    <tr>\n",
       "      <th>3</th>\n",
       "      <td>4.jpg</td>\n",
       "      <td>1Mnb</td>\n",
       "    </tr>\n",
       "    <tr>\n",
       "      <th>4</th>\n",
       "      <td>5.jpg</td>\n",
       "      <td>B6UB</td>\n",
       "    </tr>\n",
       "  </tbody>\n",
       "</table>\n",
       "</div>"
      ],
      "text/plain": [
       "      ID label\n",
       "0  1.jpg  4Jy3\n",
       "1  2.jpg  P6Bf\n",
       "2  3.jpg  vJlD\n",
       "3  4.jpg  1Mnb\n",
       "4  5.jpg  B6UB"
      ]
     },
     "execution_count": 4,
     "metadata": {},
     "output_type": "execute_result"
    }
   ],
   "source": [
    "label = pd.read_csv(label_dir)\n",
    "label.head()"
   ]
  },
  {
   "cell_type": "code",
   "execution_count": 5,
   "metadata": {
    "ExecuteTime": {
     "end_time": "2020-09-05T17:50:21.490286Z",
     "start_time": "2020-09-05T17:50:12.219155Z"
    }
   },
   "outputs": [
    {
     "name": "stderr",
     "output_type": "stream",
     "text": [
      "100%|██████████| 5001/5001 [00:09<00:00, 541.28it/s]\n"
     ]
    }
   ],
   "source": [
    "# 处理训练集\n",
    "for root, dirs, files in os.walk(train_dir):\n",
    "#     print(len(files))\n",
    "    for file in tqdm.tqdm(files):\n",
    "        if file != '.DS_Store':\n",
    "            num =  os.path.splitext(file)[0]\n",
    "\n",
    "            # 生成路径\n",
    "            read_path = os.path.join(train_dir, file)\n",
    "            save_path = os.path.join(to_dir, num+'_{}.png'.format(label.loc[int(num) - 1, 'label']))\n",
    "    \n",
    "            # 读取图像\n",
    "            imgBuffer = cv2.imread(read_path, -1)\n",
    "            \n",
    "#             # Ostu二值化，容易将文字去除\n",
    "#             t, testImg = cv2.threshold(imgBuffer, 0, 255, cv2.THRESH_BINARY + cv2.THRESH_OTSU)\n",
    "\n",
    "            # 中值滤波\n",
    "            imgBuffer = cv2.medianBlur(imgBuffer, 3)\n",
    "            \n",
    "            # 判断是否写入成功\n",
    "            flag = cv2.imwrite(save_path, imgBuffer)\n"
   ]
  },
  {
   "cell_type": "code",
   "execution_count": 10,
   "metadata": {
    "ExecuteTime": {
     "end_time": "2020-09-05T17:51:49.578355Z",
     "start_time": "2020-09-05T17:51:41.918257Z"
    }
   },
   "outputs": [
    {
     "name": "stderr",
     "output_type": "stream",
     "text": [
      "100%|██████████| 5000/5000 [00:07<00:00, 654.44it/s]\n"
     ]
    }
   ],
   "source": [
    "# 处理测试集\n",
    "for root, dirs, files in os.walk(test_dir):\n",
    "    for file in tqdm.tqdm(files):\n",
    "        if file != '.DS_Store':\n",
    "            num =  os.path.splitext(file)[0]\n",
    "\n",
    "            # 生成路径\n",
    "            read_path = os.path.join(test_dir, file)\n",
    "            save_path = os.path.join(to_test_dir, num+'.png')\n",
    "    \n",
    "            # 读取图像\n",
    "            imgBuffer = cv2.imread(read_path, -1)\n",
    "            \n",
    "#             # Ostu二值化，容易将文字去除\n",
    "#             t, testImg = cv2.threshold(imgBuffer, 0, 255, cv2.THRESH_BINARY + cv2.THRESH_OTSU)\n",
    "\n",
    "            # 中值滤波\n",
    "            imgBuffer = cv2.medianBlur(imgBuffer, 3)\n",
    "            \n",
    "            # 判断是否写入成功\n",
    "            flag = cv2.imwrite(save_path, imgBuffer)\n"
   ]
  },
  {
   "cell_type": "code",
   "execution_count": null,
   "metadata": {},
   "outputs": [],
   "source": []
  }
 ],
 "metadata": {
  "kernelspec": {
   "display_name": "Python 3",
   "language": "python",
   "name": "python3"
  },
  "language_info": {
   "codemirror_mode": {
    "name": "ipython",
    "version": 3
   },
   "file_extension": ".py",
   "mimetype": "text/x-python",
   "name": "python",
   "nbconvert_exporter": "python",
   "pygments_lexer": "ipython3",
   "version": "3.7.2"
  },
  "toc": {
   "base_numbering": 1,
   "nav_menu": {},
   "number_sections": true,
   "sideBar": true,
   "skip_h1_title": false,
   "title_cell": "Table of Contents",
   "title_sidebar": "Contents",
   "toc_cell": false,
   "toc_position": {},
   "toc_section_display": true,
   "toc_window_display": false
  },
  "varInspector": {
   "cols": {
    "lenName": 16,
    "lenType": 16,
    "lenVar": 40
   },
   "kernels_config": {
    "python": {
     "delete_cmd_postfix": "",
     "delete_cmd_prefix": "del ",
     "library": "var_list.py",
     "varRefreshCmd": "print(var_dic_list())"
    },
    "r": {
     "delete_cmd_postfix": ") ",
     "delete_cmd_prefix": "rm(",
     "library": "var_list.r",
     "varRefreshCmd": "cat(var_dic_list()) "
    }
   },
   "types_to_exclude": [
    "module",
    "function",
    "builtin_function_or_method",
    "instance",
    "_Feature"
   ],
   "window_display": false
  }
 },
 "nbformat": 4,
 "nbformat_minor": 2
}
