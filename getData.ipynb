{
 "cells": [
  {
   "cell_type": "code",
   "execution_count": 3,
   "metadata": {
    "ExecuteTime": {
     "end_time": "2020-09-05T18:10:52.743956Z",
     "start_time": "2020-09-05T18:10:48.613592Z"
    }
   },
   "outputs": [
    {
     "name": "stderr",
     "output_type": "stream",
     "text": [
      "/Users/mac/Applications/anaconda3/lib/python3.7/site-packages/tensorflow/python/framework/dtypes.py:526: FutureWarning: Passing (type, 1) or '1type' as a synonym of type is deprecated; in a future version of numpy, it will be understood as (type, (1,)) / '(1,)type'.\n",
      "  _np_qint8 = np.dtype([(\"qint8\", np.int8, 1)])\n",
      "/Users/mac/Applications/anaconda3/lib/python3.7/site-packages/tensorflow/python/framework/dtypes.py:527: FutureWarning: Passing (type, 1) or '1type' as a synonym of type is deprecated; in a future version of numpy, it will be understood as (type, (1,)) / '(1,)type'.\n",
      "  _np_quint8 = np.dtype([(\"quint8\", np.uint8, 1)])\n",
      "/Users/mac/Applications/anaconda3/lib/python3.7/site-packages/tensorflow/python/framework/dtypes.py:528: FutureWarning: Passing (type, 1) or '1type' as a synonym of type is deprecated; in a future version of numpy, it will be understood as (type, (1,)) / '(1,)type'.\n",
      "  _np_qint16 = np.dtype([(\"qint16\", np.int16, 1)])\n",
      "/Users/mac/Applications/anaconda3/lib/python3.7/site-packages/tensorflow/python/framework/dtypes.py:529: FutureWarning: Passing (type, 1) or '1type' as a synonym of type is deprecated; in a future version of numpy, it will be understood as (type, (1,)) / '(1,)type'.\n",
      "  _np_quint16 = np.dtype([(\"quint16\", np.uint16, 1)])\n",
      "/Users/mac/Applications/anaconda3/lib/python3.7/site-packages/tensorflow/python/framework/dtypes.py:530: FutureWarning: Passing (type, 1) or '1type' as a synonym of type is deprecated; in a future version of numpy, it will be understood as (type, (1,)) / '(1,)type'.\n",
      "  _np_qint32 = np.dtype([(\"qint32\", np.int32, 1)])\n",
      "/Users/mac/Applications/anaconda3/lib/python3.7/site-packages/tensorflow/python/framework/dtypes.py:535: FutureWarning: Passing (type, 1) or '1type' as a synonym of type is deprecated; in a future version of numpy, it will be understood as (type, (1,)) / '(1,)type'.\n",
      "  np_resource = np.dtype([(\"resource\", np.ubyte, 1)])\n"
     ]
    }
   ],
   "source": [
    "import os\n",
    "import cv2\n",
    "import numpy as np\n",
    "import pandas as pd\n",
    "import string\n",
    "import tensorflow as tf"
   ]
  },
  {
   "cell_type": "code",
   "execution_count": 2,
   "metadata": {
    "ExecuteTime": {
     "end_time": "2020-09-05T18:10:46.532727Z",
     "start_time": "2020-09-05T18:10:46.526063Z"
    }
   },
   "outputs": [],
   "source": [
    "# 设置参数\n",
    "from params import *"
   ]
  },
  {
   "cell_type": "code",
   "execution_count": 8,
   "metadata": {
    "ExecuteTime": {
     "end_time": "2020-09-05T10:47:36.637836Z",
     "start_time": "2020-09-05T10:47:36.626273Z"
    }
   },
   "outputs": [],
   "source": [
    "def gen(path = trainDir, batch_size  = 32):\n",
    "    '''\n",
    "    获取训练数据/验证数据\n",
    "    '''\n",
    "    X = np.zeros((batch_size, height, width, channel), dtype= np.float16)\n",
    "    y = np.zeros((batch_size, n_len , n_class), dtype= np.uint8)\n",
    "    # 遍历目录\n",
    "    for root, dirs, files in os.walk(path):\n",
    "        # 去除隐藏文件\n",
    "        if '.DS_Store' in files:\n",
    "            files.remove('.DS_Store')\n",
    "        # 设置起始指针\n",
    "        pointer = 0\n",
    "        while(True):\n",
    "            # 若指针超过文件数量，从头开始\n",
    "            if pointer + batch_size >= len(files):\n",
    "                pointer = 0\n",
    "            # 遍历文件名\n",
    "            for i in range(batch_size):\n",
    "\n",
    "                file = files[pointer + i]\n",
    "\n",
    "                #获取文件名\n",
    "                name =  os.path.splitext(file)[0].split('_')\n",
    "                num, content = name[0], name[1]\n",
    "\n",
    "                #生成读取路径\n",
    "                readPath = os.path.join(path, file)\n",
    "                # 读取图片\n",
    "                imgBuffer = cv2.imread(readPath, 0)\n",
    "                # 改变图片大小\n",
    "                imgBuffer = cv2.resize(imgBuffer, (width, height))\n",
    "\n",
    "                # 二值化\n",
    "                #  t, imgBuffer = cv2.threshold(imgBuffer, 0, 255, cv2.THRESH_BINARY + cv2.THRESH_OTSU)\n",
    "                \n",
    "                # 归一化\n",
    "                minX = imgBuffer.min()\n",
    "                imgBuffer = imgBuffer - minX\n",
    "                maxX = max(1, imgBuffer.max())\n",
    "                imgBuffer = np.array(imgBuffer / maxX, np.float16)\n",
    "                \n",
    "                # 改变图片维度，适应模型输入\n",
    "                imgBuffer = np.expand_dims(imgBuffer, axis = 2)\n",
    "\n",
    "                # 把图像赋值给张量\n",
    "                X[i] = imgBuffer\n",
    "                \n",
    "                # 把标记赋值给张量\n",
    "                for j, ch in enumerate(content):\n",
    "                    y[i][j, :] = 0\n",
    "                    y[i][j, characters.find(ch)] = 1\n",
    "\n",
    "            # 指针指向下一个batch\n",
    "            pointer += batch_size\n",
    "            \n",
    "            # 输出\n",
    "            yield X, y\n"
   ]
  },
  {
   "cell_type": "code",
   "execution_count": 4,
   "metadata": {
    "ExecuteTime": {
     "end_time": "2020-09-05T18:10:53.341660Z",
     "start_time": "2020-09-05T18:10:53.254595Z"
    }
   },
   "outputs": [],
   "source": [
    "def test_gen(path = testDir, batch_size  = 1):\n",
    "    \n",
    "    '''\n",
    "    获取测试数据\n",
    "    '''\n",
    "    \n",
    "    X = np.zeros((batch_size, height, width, channel), dtype= np.float16)\n",
    "    \n",
    "    # 遍历目录\n",
    "    for root, dirs, files in os.walk(path):\n",
    "        # 去除隐藏文件\n",
    "        if '.DS_Store' in files:\n",
    "            files.remove('.DS_Store')\n",
    "        # 设置起始指针\n",
    "        pointer = 0\n",
    "        while(True):\n",
    "            # 若指针超过文件数量，从头开始\n",
    "            if pointer + batch_size >= len(files):\n",
    "                pointer = 0\n",
    "            # 遍历文件名\n",
    "            for i in range(batch_size):\n",
    "\n",
    "                file = files[pointer + i]\n",
    "\n",
    "                #获取文件名\n",
    "                num =  os.path.splitext(file)[0]\n",
    "\n",
    "                #生成读取路径\n",
    "                readPath = os.path.join(path, file)\n",
    "                # 读取图片\n",
    "                imgBuffer = cv2.imread(readPath, 0)\n",
    "                # 改变图片大小\n",
    "                imgBuffer = cv2.resize(imgBuffer, (width, height))\n",
    "\n",
    "                # 二值化\n",
    "                #  t, imgBuffer = cv2.threshold(imgBuffer, 0, 255, cv2.THRESH_BINARY + cv2.THRESH_OTSU)\n",
    "\n",
    "                # 归一化\n",
    "                minX = imgBuffer.min()\n",
    "                imgBuffer = imgBuffer - minX\n",
    "                maxX = max(1, imgBuffer.max())\n",
    "                # 将对比度拉伸到0-255范围内\n",
    "                imgBuffer = np.array(imgBuffer / maxX, np.float16)\n",
    "                # 改变图片维度，适应模型输入\n",
    "                imgBuffer = np.expand_dims(imgBuffer, axis = 2)\n",
    "\n",
    "                # 把图像赋值给张量\n",
    "                X[i] = imgBuffer\n",
    "                \n",
    "            # 指针指向下一个batch\n",
    "            pointer += batch_size\n",
    "        \n",
    "            # 输出\n",
    "            yield X, num\n"
   ]
  },
  {
   "cell_type": "code",
   "execution_count": null,
   "metadata": {},
   "outputs": [],
   "source": []
  }
 ],
 "metadata": {
  "kernelspec": {
   "display_name": "Python 3",
   "language": "python",
   "name": "python3"
  },
  "language_info": {
   "codemirror_mode": {
    "name": "ipython",
    "version": 3
   },
   "file_extension": ".py",
   "mimetype": "text/x-python",
   "name": "python",
   "nbconvert_exporter": "python",
   "pygments_lexer": "ipython3",
   "version": "3.7.2"
  },
  "toc": {
   "base_numbering": 1,
   "nav_menu": {},
   "number_sections": true,
   "sideBar": true,
   "skip_h1_title": false,
   "title_cell": "Table of Contents",
   "title_sidebar": "Contents",
   "toc_cell": false,
   "toc_position": {},
   "toc_section_display": true,
   "toc_window_display": false
  },
  "varInspector": {
   "cols": {
    "lenName": 16,
    "lenType": 16,
    "lenVar": 40
   },
   "kernels_config": {
    "python": {
     "delete_cmd_postfix": "",
     "delete_cmd_prefix": "del ",
     "library": "var_list.py",
     "varRefreshCmd": "print(var_dic_list())"
    },
    "r": {
     "delete_cmd_postfix": ") ",
     "delete_cmd_prefix": "rm(",
     "library": "var_list.r",
     "varRefreshCmd": "cat(var_dic_list()) "
    }
   },
   "types_to_exclude": [
    "module",
    "function",
    "builtin_function_or_method",
    "instance",
    "_Feature"
   ],
   "window_display": false
  }
 },
 "nbformat": 4,
 "nbformat_minor": 2
}
