{
 "cells": [
  {
   "cell_type": "code",
   "execution_count": 1,
   "metadata": {
    "ExecuteTime": {
     "end_time": "2020-09-06T08:21:30.426291Z",
     "start_time": "2020-09-06T08:21:22.999882Z"
    }
   },
   "outputs": [],
   "source": [
    "import os\n",
    "import cv2\n",
    "import numpy as np\n",
    "import pandas as pd\n",
    "import string\n",
    "import tensorflow as tf"
   ]
  },
  {
   "cell_type": "code",
   "execution_count": 2,
   "metadata": {
    "ExecuteTime": {
     "end_time": "2020-09-06T08:21:30.437374Z",
     "start_time": "2020-09-06T08:21:30.429475Z"
    }
   },
   "outputs": [],
   "source": [
    "# 设置参数\n",
    "from params import *"
   ]
  },
  {
   "cell_type": "markdown",
   "metadata": {},
   "source": [
    "## Dataset"
   ]
  },
  {
   "cell_type": "code",
   "execution_count": 3,
   "metadata": {
    "ExecuteTime": {
     "end_time": "2020-09-06T08:21:30.455526Z",
     "start_time": "2020-09-06T08:21:30.442395Z"
    }
   },
   "outputs": [],
   "source": [
    "\n",
    "def getPath(path):\n",
    "    '''\n",
    "    获取路径\n",
    "    '''\n",
    "    for root, dirs, files in os.walk(trainDir):\n",
    "        # 去除隐藏文件\n",
    "        if '.DS_Store' in files:\n",
    "            files.remove('.DS_Store')\n",
    "        # 添加系统路径\n",
    "        files = pd.Series(files).apply(lambda x: os.path.join(trainDir, x)).values\n",
    "    return files\n",
    "\n",
    "def getLabel(filesPath):\n",
    "    #  获取标签\n",
    "    labels = np.zeros((len(filesPath), n_len , n_class), dtype= np.uint8)\n",
    "    for i in range(len(filesPath)):\n",
    "        #获取文件名\n",
    "        name =  os.path.splitext(filesPath[i])[0].split('_')\n",
    "        num, content = name[0], name[1]\n",
    "        # 把标记赋值给张量\n",
    "        for j, ch in enumerate(content):\n",
    "            labels[i][j, :] = 0\n",
    "            labels[i][j, characters.find(ch)] = 1\n",
    "    return labels"
   ]
  },
  {
   "cell_type": "code",
   "execution_count": 4,
   "metadata": {
    "ExecuteTime": {
     "end_time": "2020-09-06T08:21:30.478622Z",
     "start_time": "2020-09-06T08:21:30.465781Z"
    }
   },
   "outputs": [],
   "source": [
    "def load_and_preprocess_image(filePath):\n",
    "    # 读取图片\n",
    "    image = tf.io.read_file(filePath)\n",
    "    # 将png格式的图片解码，得到一个张量（一维的矩阵）\n",
    "    image = tf.image.decode_png(image, channels=1)\n",
    "    # 调整大小\n",
    "    image = tf.image.resize(image, [height, width])\n",
    "    # 对每个像素点的RGB值做归一化处理\n",
    "    image /= 255.0\n",
    "    return image"
   ]
  },
  {
   "cell_type": "code",
   "execution_count": 5,
   "metadata": {
    "ExecuteTime": {
     "end_time": "2020-09-06T08:21:30.494397Z",
     "start_time": "2020-09-06T08:21:30.483320Z"
    }
   },
   "outputs": [],
   "source": [
    "def getDataset(dirPath):\n",
    "    # 获取图片\n",
    "    filesPath = getPath(dirPath)\n",
    "    # 获取标签\n",
    "    labels = getLabel(filesPath)\n",
    "    # 构建图片路径的“dataset”\n",
    "    dataset = tf.data.Dataset.from_tensor_slices(filesPath)\n",
    "    # 使用AUTOTUNE自动调节管道参数\n",
    "    AUTOTUNE = tf.data.experimental.AUTOTUNE\n",
    "    # 处理图片\n",
    "    image_ds = dataset.map(load_and_preprocess_image,num_parallel_calls=AUTOTUNE)\n",
    "    # 构建类标数据的“dataset”\n",
    "    label_ds = tf.data.Dataset.from_tensor_slices(labels)\n",
    "    # 将图片和类标压缩为（图片，类标）对\n",
    "    image_label_ds = tf.data.Dataset.zip((image_ds, label_ds))\n",
    "    # 形成batch\n",
    "    image_label_ds = image_label_ds.batch(batch_size)\n",
    "    # 让数据集重复多次\n",
    "    image_label_ds = image_label_ds.repeat()\n",
    "    # 通过“prefetch”方法让模型的训练和每个batch数据集的加载并行\n",
    "    image_label_ds = image_label_ds.prefetch(buffer_size=AUTOTUNE)\n",
    "    return image_label_ds"
   ]
  },
  {
   "cell_type": "markdown",
   "metadata": {},
   "source": [
    "## 数据生成器"
   ]
  },
  {
   "cell_type": "code",
   "execution_count": 8,
   "metadata": {
    "ExecuteTime": {
     "end_time": "2020-09-06T08:21:30.818525Z",
     "start_time": "2020-09-06T08:21:30.805419Z"
    }
   },
   "outputs": [],
   "source": [
    "def gen(path = trainDir, batch_size  = 32):\n",
    "    '''\n",
    "    获取训练数据/验证数据\n",
    "    '''\n",
    "    X = np.zeros((batch_size, height, width, channel), dtype= np.float16)\n",
    "    y = np.zeros((batch_size, n_len , n_class), dtype= np.uint8)\n",
    "    # 遍历目录\n",
    "    for root, dirs, files in os.walk(path):\n",
    "        # 去除隐藏文件\n",
    "        if '.DS_Store' in files:\n",
    "            files.remove('.DS_Store')\n",
    "        # 设置起始指针\n",
    "        pointer = 0\n",
    "        while(True):\n",
    "            # 若指针超过文件数量，从头开始\n",
    "            if pointer + batch_size >= len(files):\n",
    "                pointer = 0\n",
    "            # 遍历文件名\n",
    "            for i in range(batch_size):\n",
    "\n",
    "                file = files[pointer + i]\n",
    "\n",
    "                #获取文件名\n",
    "                name =  os.path.splitext(file)[0].split('_')\n",
    "                num, content = name[0], name[1]\n",
    "\n",
    "                #生成读取路径\n",
    "                readPath = os.path.join(path, file)\n",
    "                # 读取图片\n",
    "                imgBuffer = cv2.imread(readPath, 0)\n",
    "                # 改变图片大小\n",
    "                imgBuffer = cv2.resize(imgBuffer, (width, height))\n",
    "\n",
    "                # 二值化\n",
    "                #  t, imgBuffer = cv2.threshold(imgBuffer, 0, 255, cv2.THRESH_BINARY + cv2.THRESH_OTSU)\n",
    "                \n",
    "                # 归一化\n",
    "                minX = imgBuffer.min()\n",
    "                imgBuffer = imgBuffer - minX\n",
    "                maxX = max(1, imgBuffer.max())\n",
    "                imgBuffer = np.array(imgBuffer / maxX, np.float16)\n",
    "                \n",
    "                # 改变图片维度，适应模型输入\n",
    "                imgBuffer = np.expand_dims(imgBuffer, axis = 2)\n",
    "\n",
    "                # 把图像赋值给张量\n",
    "                X[i] = imgBuffer\n",
    "                \n",
    "                # 把标记赋值给张量\n",
    "                for j, ch in enumerate(content):\n",
    "                    y[i][j, :] = 0\n",
    "                    y[i][j, characters.find(ch)] = 1\n",
    "\n",
    "            # 指针指向下一个batch\n",
    "            pointer += batch_size\n",
    "            \n",
    "            # 输出\n",
    "            yield X, y\n"
   ]
  },
  {
   "cell_type": "code",
   "execution_count": 9,
   "metadata": {
    "ExecuteTime": {
     "end_time": "2020-09-06T08:21:30.836896Z",
     "start_time": "2020-09-06T08:21:30.824863Z"
    }
   },
   "outputs": [],
   "source": [
    "def test_gen(path = testDir, batch_size  = 1):\n",
    "    \n",
    "    '''\n",
    "    获取测试数据\n",
    "    '''\n",
    "    \n",
    "    X = np.zeros((batch_size, height, width, channel), dtype= np.float16)\n",
    "    \n",
    "    # 遍历目录\n",
    "    for root, dirs, files in os.walk(path):\n",
    "        # 去除隐藏文件\n",
    "        if '.DS_Store' in files:\n",
    "            files.remove('.DS_Store')\n",
    "        # 设置起始指针\n",
    "        pointer = 0\n",
    "        while(True):\n",
    "            # 若指针超过文件数量，从头开始\n",
    "            if pointer + batch_size >= len(files):\n",
    "                pointer = 0\n",
    "            # 遍历文件名\n",
    "            for i in range(batch_size):\n",
    "\n",
    "                file = files[pointer + i]\n",
    "\n",
    "                #获取文件名\n",
    "                num =  os.path.splitext(file)[0]\n",
    "\n",
    "                #生成读取路径\n",
    "                readPath = os.path.join(path, file)\n",
    "                # 读取图片\n",
    "                imgBuffer = cv2.imread(readPath, 0)\n",
    "                # 改变图片大小\n",
    "                imgBuffer = cv2.resize(imgBuffer, (width, height))\n",
    "\n",
    "                # 二值化\n",
    "                #  t, imgBuffer = cv2.threshold(imgBuffer, 0, 255, cv2.THRESH_BINARY + cv2.THRESH_OTSU)\n",
    "\n",
    "                # 归一化\n",
    "                minX = imgBuffer.min()\n",
    "                imgBuffer = imgBuffer - minX\n",
    "                maxX = max(1, imgBuffer.max())\n",
    "                # 将对比度拉伸到0-255范围内\n",
    "                imgBuffer = np.array(imgBuffer / maxX, np.float16)\n",
    "                # 改变图片维度，适应模型输入\n",
    "                imgBuffer = np.expand_dims(imgBuffer, axis = 2)\n",
    "\n",
    "                # 把图像赋值给张量\n",
    "                X[i] = imgBuffer\n",
    "                \n",
    "            # 指针指向下一个batch\n",
    "            pointer += batch_size\n",
    "        \n",
    "            # 输出\n",
    "            yield X, num\n"
   ]
  },
  {
   "cell_type": "code",
   "execution_count": null,
   "metadata": {},
   "outputs": [],
   "source": []
  }
 ],
 "metadata": {
  "kernelspec": {
   "display_name": "Python 3",
   "language": "python",
   "name": "python3"
  },
  "language_info": {
   "codemirror_mode": {
    "name": "ipython",
    "version": 3
   },
   "file_extension": ".py",
   "mimetype": "text/x-python",
   "name": "python",
   "nbconvert_exporter": "python",
   "pygments_lexer": "ipython3",
   "version": "3.8.3"
  },
  "toc": {
   "base_numbering": 1,
   "nav_menu": {},
   "number_sections": true,
   "sideBar": true,
   "skip_h1_title": false,
   "title_cell": "Table of Contents",
   "title_sidebar": "Contents",
   "toc_cell": false,
   "toc_position": {},
   "toc_section_display": true,
   "toc_window_display": false
  },
  "varInspector": {
   "cols": {
    "lenName": 16,
    "lenType": 16,
    "lenVar": 40
   },
   "kernels_config": {
    "python": {
     "delete_cmd_postfix": "",
     "delete_cmd_prefix": "del ",
     "library": "var_list.py",
     "varRefreshCmd": "print(var_dic_list())"
    },
    "r": {
     "delete_cmd_postfix": ") ",
     "delete_cmd_prefix": "rm(",
     "library": "var_list.r",
     "varRefreshCmd": "cat(var_dic_list()) "
    }
   },
   "position": {
    "height": "170px",
    "left": "650px",
    "right": "20px",
    "top": "118px",
    "width": "490px"
   },
   "types_to_exclude": [
    "module",
    "function",
    "builtin_function_or_method",
    "instance",
    "_Feature"
   ],
   "window_display": false
  }
 },
 "nbformat": 4,
 "nbformat_minor": 2
}
