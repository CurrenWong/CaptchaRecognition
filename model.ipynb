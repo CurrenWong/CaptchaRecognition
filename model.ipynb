{
 "cells": [
  {
   "cell_type": "code",
   "execution_count": 1,
   "metadata": {
    "ExecuteTime": {
     "end_time": "2020-09-05T10:46:17.806811Z",
     "start_time": "2020-09-05T10:46:13.479781Z"
    }
   },
   "outputs": [],
   "source": [
    "import tensorflow as tf\n",
    "from tensorflow.keras.layers import *\n",
    "from tensorflow.keras.models import *"
   ]
  },
  {
   "cell_type": "code",
   "execution_count": 2,
   "metadata": {
    "ExecuteTime": {
     "end_time": "2020-09-05T10:46:17.815227Z",
     "start_time": "2020-09-05T10:46:17.809013Z"
    }
   },
   "outputs": [],
   "source": [
    "# 设置参数\n",
    "from params import *"
   ]
  },
  {
   "cell_type": "code",
   "execution_count": 3,
   "metadata": {
    "ExecuteTime": {
     "end_time": "2020-09-05T10:46:17.836309Z",
     "start_time": "2020-09-05T10:46:17.821384Z"
    }
   },
   "outputs": [],
   "source": [
    "# 构建模型\n",
    "def captcha_model():\n",
    "    \n",
    "    input_tensor = Input((height, width, channel))\n",
    "    x = input_tensor\n",
    "    for i in range(4):\n",
    "        x = Conv2D(32*2**i, (3,3) ,activation='relu', data_format = 'channels_last')(x)\n",
    "        x = Conv2D(32*2**i, (3,3) ,activation='relu', data_format = 'channels_last')(x)\n",
    "\n",
    "        x = BatchNormalization(axis = -1)(x)\n",
    "        x = MaxPooling2D( (2, 2), data_format = 'channels_last')(x)\n",
    "    \n",
    "    x = Flatten()(x)\n",
    "    x = Dropout(0.7)(x)\n",
    "    x = Dense(n_len * n_class,activation = 'softmax')(x)\n",
    "    x = Reshape([n_len , n_class])(x)\n",
    "    model = Model(inputs = (input_tensor), outputs = x)\n",
    "    return model"
   ]
  },
  {
   "cell_type": "code",
   "execution_count": null,
   "metadata": {},
   "outputs": [],
   "source": []
  },
  {
   "cell_type": "code",
   "execution_count": null,
   "metadata": {},
   "outputs": [],
   "source": []
  }
 ],
 "metadata": {
  "kernelspec": {
   "display_name": "Python 3",
   "language": "python",
   "name": "python3"
  },
  "language_info": {
   "codemirror_mode": {
    "name": "ipython",
    "version": 3
   },
   "file_extension": ".py",
   "mimetype": "text/x-python",
   "name": "python",
   "nbconvert_exporter": "python",
   "pygments_lexer": "ipython3",
   "version": "3.7.2"
  },
  "toc": {
   "base_numbering": 1,
   "nav_menu": {},
   "number_sections": true,
   "sideBar": true,
   "skip_h1_title": false,
   "title_cell": "Table of Contents",
   "title_sidebar": "Contents",
   "toc_cell": false,
   "toc_position": {},
   "toc_section_display": true,
   "toc_window_display": false
  },
  "varInspector": {
   "cols": {
    "lenName": 16,
    "lenType": 16,
    "lenVar": 40
   },
   "kernels_config": {
    "python": {
     "delete_cmd_postfix": "",
     "delete_cmd_prefix": "del ",
     "library": "var_list.py",
     "varRefreshCmd": "print(var_dic_list())"
    },
    "r": {
     "delete_cmd_postfix": ") ",
     "delete_cmd_prefix": "rm(",
     "library": "var_list.r",
     "varRefreshCmd": "cat(var_dic_list()) "
    }
   },
   "types_to_exclude": [
    "module",
    "function",
    "builtin_function_or_method",
    "instance",
    "_Feature"
   ],
   "window_display": false
  }
 },
 "nbformat": 4,
 "nbformat_minor": 2
}
