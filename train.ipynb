{
 "cells": [
  {
   "cell_type": "code",
   "execution_count": 1,
   "metadata": {
    "ExecuteTime": {
     "end_time": "2020-09-05T15:47:03.924146Z",
     "start_time": "2020-09-05T15:46:59.854489Z"
    }
   },
   "outputs": [
    {
     "name": "stderr",
     "output_type": "stream",
     "text": [
      "/Users/mac/Applications/anaconda3/lib/python3.7/site-packages/tensorflow/python/framework/dtypes.py:526: FutureWarning: Passing (type, 1) or '1type' as a synonym of type is deprecated; in a future version of numpy, it will be understood as (type, (1,)) / '(1,)type'.\n",
      "  _np_qint8 = np.dtype([(\"qint8\", np.int8, 1)])\n",
      "/Users/mac/Applications/anaconda3/lib/python3.7/site-packages/tensorflow/python/framework/dtypes.py:527: FutureWarning: Passing (type, 1) or '1type' as a synonym of type is deprecated; in a future version of numpy, it will be understood as (type, (1,)) / '(1,)type'.\n",
      "  _np_quint8 = np.dtype([(\"quint8\", np.uint8, 1)])\n",
      "/Users/mac/Applications/anaconda3/lib/python3.7/site-packages/tensorflow/python/framework/dtypes.py:528: FutureWarning: Passing (type, 1) or '1type' as a synonym of type is deprecated; in a future version of numpy, it will be understood as (type, (1,)) / '(1,)type'.\n",
      "  _np_qint16 = np.dtype([(\"qint16\", np.int16, 1)])\n",
      "/Users/mac/Applications/anaconda3/lib/python3.7/site-packages/tensorflow/python/framework/dtypes.py:529: FutureWarning: Passing (type, 1) or '1type' as a synonym of type is deprecated; in a future version of numpy, it will be understood as (type, (1,)) / '(1,)type'.\n",
      "  _np_quint16 = np.dtype([(\"quint16\", np.uint16, 1)])\n",
      "/Users/mac/Applications/anaconda3/lib/python3.7/site-packages/tensorflow/python/framework/dtypes.py:530: FutureWarning: Passing (type, 1) or '1type' as a synonym of type is deprecated; in a future version of numpy, it will be understood as (type, (1,)) / '(1,)type'.\n",
      "  _np_qint32 = np.dtype([(\"qint32\", np.int32, 1)])\n",
      "/Users/mac/Applications/anaconda3/lib/python3.7/site-packages/tensorflow/python/framework/dtypes.py:535: FutureWarning: Passing (type, 1) or '1type' as a synonym of type is deprecated; in a future version of numpy, it will be understood as (type, (1,)) / '(1,)type'.\n",
      "  np_resource = np.dtype([(\"resource\", np.ubyte, 1)])\n"
     ]
    }
   ],
   "source": [
    "import tensorflow as tf\n",
    "import matplotlib.pyplot as plt\n",
    "import os\n",
    "import numpy as np\n",
    "import random\n",
    "import string\n",
    "import cv2"
   ]
  },
  {
   "cell_type": "code",
   "execution_count": 2,
   "metadata": {
    "ExecuteTime": {
     "end_time": "2020-09-05T15:47:04.419030Z",
     "start_time": "2020-09-05T15:47:03.926384Z"
    }
   },
   "outputs": [],
   "source": [
    "# 导入函数\n",
    "from model import captcha_model\n",
    "from getData import gen\n",
    "\n",
    "# 设置参数\n",
    "from params import *"
   ]
  },
  {
   "cell_type": "code",
   "execution_count": 3,
   "metadata": {
    "ExecuteTime": {
     "end_time": "2020-09-05T15:47:04.995371Z",
     "start_time": "2020-09-05T15:47:04.423426Z"
    }
   },
   "outputs": [
    {
     "name": "stdout",
     "output_type": "stream",
     "text": [
      "WARNING:tensorflow:From /Users/mac/Applications/anaconda3/lib/python3.7/site-packages/tensorflow/python/ops/resource_variable_ops.py:435: colocate_with (from tensorflow.python.framework.ops) is deprecated and will be removed in a future version.\n",
      "Instructions for updating:\n",
      "Colocations handled automatically by placer.\n",
      "WARNING:tensorflow:From /Users/mac/Applications/anaconda3/lib/python3.7/site-packages/tensorflow/python/keras/layers/core.py:143: calling dropout (from tensorflow.python.ops.nn_ops) with keep_prob is deprecated and will be removed in a future version.\n",
      "Instructions for updating:\n",
      "Please use `rate` instead of `keep_prob`. Rate should be set to `rate = 1 - keep_prob`.\n"
     ]
    }
   ],
   "source": [
    "model = captcha_model()"
   ]
  },
  {
   "cell_type": "code",
   "execution_count": 4,
   "metadata": {
    "ExecuteTime": {
     "end_time": "2020-09-05T15:47:05.022242Z",
     "start_time": "2020-09-05T15:47:04.999677Z"
    }
   },
   "outputs": [
    {
     "name": "stdout",
     "output_type": "stream",
     "text": [
      "_________________________________________________________________\n",
      "Layer (type)                 Output Shape              Param #   \n",
      "=================================================================\n",
      "input_1 (InputLayer)         (None, 80, 120, 1)        0         \n",
      "_________________________________________________________________\n",
      "conv2d (Conv2D)              (None, 78, 118, 32)       320       \n",
      "_________________________________________________________________\n",
      "conv2d_1 (Conv2D)            (None, 76, 116, 32)       9248      \n",
      "_________________________________________________________________\n",
      "batch_normalization_v1 (Batc (None, 76, 116, 32)       128       \n",
      "_________________________________________________________________\n",
      "max_pooling2d (MaxPooling2D) (None, 38, 58, 32)        0         \n",
      "_________________________________________________________________\n",
      "conv2d_2 (Conv2D)            (None, 36, 56, 64)        18496     \n",
      "_________________________________________________________________\n",
      "conv2d_3 (Conv2D)            (None, 34, 54, 64)        36928     \n",
      "_________________________________________________________________\n",
      "batch_normalization_v1_1 (Ba (None, 34, 54, 64)        256       \n",
      "_________________________________________________________________\n",
      "max_pooling2d_1 (MaxPooling2 (None, 17, 27, 64)        0         \n",
      "_________________________________________________________________\n",
      "conv2d_4 (Conv2D)            (None, 15, 25, 128)       73856     \n",
      "_________________________________________________________________\n",
      "conv2d_5 (Conv2D)            (None, 13, 23, 128)       147584    \n",
      "_________________________________________________________________\n",
      "batch_normalization_v1_2 (Ba (None, 13, 23, 128)       512       \n",
      "_________________________________________________________________\n",
      "max_pooling2d_2 (MaxPooling2 (None, 6, 11, 128)        0         \n",
      "_________________________________________________________________\n",
      "conv2d_6 (Conv2D)            (None, 4, 9, 256)         295168    \n",
      "_________________________________________________________________\n",
      "conv2d_7 (Conv2D)            (None, 2, 7, 256)         590080    \n",
      "_________________________________________________________________\n",
      "batch_normalization_v1_3 (Ba (None, 2, 7, 256)         1024      \n",
      "_________________________________________________________________\n",
      "max_pooling2d_3 (MaxPooling2 (None, 1, 3, 256)         0         \n",
      "_________________________________________________________________\n",
      "flatten (Flatten)            (None, 768)               0         \n",
      "_________________________________________________________________\n",
      "dropout (Dropout)            (None, 768)               0         \n",
      "_________________________________________________________________\n",
      "dense (Dense)                (None, 248)               190712    \n",
      "_________________________________________________________________\n",
      "reshape (Reshape)            (None, 4, 62)             0         \n",
      "=================================================================\n",
      "Total params: 1,364,312\n",
      "Trainable params: 1,363,352\n",
      "Non-trainable params: 960\n",
      "_________________________________________________________________\n"
     ]
    }
   ],
   "source": [
    "model.summary()"
   ]
  },
  {
   "cell_type": "code",
   "execution_count": 5,
   "metadata": {
    "ExecuteTime": {
     "end_time": "2020-09-05T15:47:05.038409Z",
     "start_time": "2020-09-05T15:47:05.024917Z"
    }
   },
   "outputs": [],
   "source": [
    "# 消除found libiomp5.dylib already initialized 错误\n",
    "import os\n",
    "os.environ[\"KMP_DUPLICATE_LIB_OK\"]=\"TRUE\""
   ]
  },
  {
   "cell_type": "code",
   "execution_count": 6,
   "metadata": {
    "ExecuteTime": {
     "end_time": "2020-09-05T15:47:05.263738Z",
     "start_time": "2020-09-05T15:47:05.051157Z"
    }
   },
   "outputs": [],
   "source": [
    "#设置回调函数\n",
    "from tensorflow.keras.callbacks import ModelCheckpoint\n",
    "from tensorflow.keras.callbacks import CSVLogger\n",
    "\n",
    "checkpointer_best = ModelCheckpoint(filepath = \"log/model_best.h5\", verbose = 1, save_best_only = True)\n",
    "\n",
    "checkpointer_normal = ModelCheckpoint(filepath = \"log/model.h5\", verbose = 1, save_best_only = False)\n",
    "\n",
    "logger  = CSVLogger('log/training.log', append = True)\n",
    "\n",
    "callbacks = [checkpointer_best, checkpointer_normal, logger]\n",
    "\n",
    "# 训练模型\n",
    "model.compile(loss='categorical_crossentropy',optimizer='adadelta',metrics=['accuracy'])"
   ]
  },
  {
   "cell_type": "code",
   "execution_count": 7,
   "metadata": {
    "ExecuteTime": {
     "end_time": "2020-09-05T17:31:37.444697Z",
     "start_time": "2020-09-05T15:47:05.266024Z"
    },
    "scrolled": false
   },
   "outputs": [
    {
     "name": "stdout",
     "output_type": "stream",
     "text": [
      "WARNING:tensorflow:From /Users/mac/Applications/anaconda3/lib/python3.7/site-packages/tensorflow/python/ops/math_ops.py:3066: to_int32 (from tensorflow.python.ops.math_ops) is deprecated and will be removed in a future version.\n",
      "Instructions for updating:\n",
      "Use tf.cast instead.\n",
      "Epoch 1/1000\n",
      "30/30 [==============================] - 14s 477ms/step - loss: 4.2681 - acc: 0.0185\n",
      "\n",
      "Epoch 00001: val_loss improved from inf to 4.26806, saving model to log/model_best.h5\n",
      "\n",
      "Epoch 00001: saving model to log/model.h5\n",
      "125/125 [==============================] - 185s 1s/step - loss: 5.0772 - acc: 0.0256 - val_loss: 4.2681 - val_acc: 0.0185\n",
      "Epoch 2/1000\n",
      "30/30 [==============================] - 14s 480ms/step - loss: 4.3101 - acc: 0.0216\n",
      "\n",
      "Epoch 00002: val_loss did not improve from 4.26806\n",
      "\n",
      "Epoch 00002: saving model to log/model.h5\n",
      "125/125 [==============================] - 197s 2s/step - loss: 4.2328 - acc: 0.0737 - val_loss: 4.3101 - val_acc: 0.0216\n",
      "Epoch 3/1000\n",
      "30/30 [==============================] - 13s 418ms/step - loss: 3.6971 - acc: 0.0935\n",
      "\n",
      "Epoch 00003: val_loss improved from 4.26806 to 3.69709, saving model to log/model_best.h5\n",
      "\n",
      "Epoch 00003: saving model to log/model.h5\n",
      "125/125 [==============================] - 197s 2s/step - loss: 3.3906 - acc: 0.1891 - val_loss: 3.6971 - val_acc: 0.0935\n",
      "Epoch 4/1000\n",
      "30/30 [==============================] - 13s 429ms/step - loss: 2.6785 - acc: 0.3734\n",
      "\n",
      "Epoch 00004: val_loss improved from 3.69709 to 2.67845, saving model to log/model_best.h5\n",
      "\n",
      "Epoch 00004: saving model to log/model.h5\n",
      "125/125 [==============================] - 193s 2s/step - loss: 2.7825 - acc: 0.3221 - val_loss: 2.6785 - val_acc: 0.3734\n",
      "Epoch 5/1000\n",
      "30/30 [==============================] - 12s 394ms/step - loss: 2.0322 - acc: 0.5401\n",
      "\n",
      "Epoch 00005: val_loss improved from 2.67845 to 2.03217, saving model to log/model_best.h5\n",
      "\n",
      "Epoch 00005: saving model to log/model.h5\n",
      "125/125 [==============================] - 181s 1s/step - loss: 2.2325 - acc: 0.4459 - val_loss: 2.0322 - val_acc: 0.5401\n",
      "Epoch 6/1000\n",
      "30/30 [==============================] - 13s 424ms/step - loss: 1.4857 - acc: 0.6799\n",
      "\n",
      "Epoch 00006: val_loss improved from 2.03217 to 1.48574, saving model to log/model_best.h5\n",
      "\n",
      "Epoch 00006: saving model to log/model.h5\n",
      "125/125 [==============================] - 185s 1s/step - loss: 1.7689 - acc: 0.5569 - val_loss: 1.4857 - val_acc: 0.6799\n",
      "Epoch 7/1000\n",
      "30/30 [==============================] - 12s 398ms/step - loss: 1.2843 - acc: 0.7018\n",
      "\n",
      "Epoch 00007: val_loss improved from 1.48574 to 1.28430, saving model to log/model_best.h5\n",
      "\n",
      "Epoch 00007: saving model to log/model.h5\n",
      "125/125 [==============================] - 174s 1s/step - loss: 1.4569 - acc: 0.6276 - val_loss: 1.2843 - val_acc: 0.7018\n",
      "Epoch 8/1000\n",
      "30/30 [==============================] - 45s 2s/step - loss: 0.9563 - acc: 0.7654\n",
      "\n",
      "Epoch 00008: val_loss improved from 1.28430 to 0.95629, saving model to log/model_best.h5\n",
      "\n",
      "Epoch 00008: saving model to log/model.h5\n",
      "125/125 [==============================] - 223s 2s/step - loss: 1.1838 - acc: 0.6884 - val_loss: 0.9563 - val_acc: 0.7654\n",
      "Epoch 9/1000\n",
      "30/30 [==============================] - 18s 587ms/step - loss: 0.7592 - acc: 0.8128\n",
      "\n",
      "Epoch 00009: val_loss improved from 0.95629 to 0.75916, saving model to log/model_best.h5\n",
      "\n",
      "Epoch 00009: saving model to log/model.h5\n",
      "125/125 [==============================] - 203s 2s/step - loss: 0.9627 - acc: 0.7413 - val_loss: 0.7592 - val_acc: 0.8128\n",
      "Epoch 10/1000\n",
      "30/30 [==============================] - 12s 411ms/step - loss: 0.6807 - acc: 0.8323\n",
      "\n",
      "Epoch 00010: val_loss improved from 0.75916 to 0.68072, saving model to log/model_best.h5\n",
      "\n",
      "Epoch 00010: saving model to log/model.h5\n",
      "125/125 [==============================] - 180s 1s/step - loss: 0.7573 - acc: 0.7959 - val_loss: 0.6807 - val_acc: 0.8323\n",
      "Epoch 11/1000\n",
      "30/30 [==============================] - 11s 379ms/step - loss: 0.5849 - acc: 0.8547\n",
      "\n",
      "Epoch 00011: val_loss improved from 0.68072 to 0.58489, saving model to log/model_best.h5\n",
      "\n",
      "Epoch 00011: saving model to log/model.h5\n",
      "125/125 [==============================] - 185s 1s/step - loss: 0.6351 - acc: 0.8259 - val_loss: 0.5849 - val_acc: 0.8547\n",
      "Epoch 12/1000\n",
      "30/30 [==============================] - 11s 382ms/step - loss: 0.4936 - acc: 0.8841\n",
      "\n",
      "Epoch 00012: val_loss improved from 0.58489 to 0.49356, saving model to log/model_best.h5\n",
      "\n",
      "Epoch 00012: saving model to log/model.h5\n",
      "125/125 [==============================] - 196s 2s/step - loss: 0.5289 - acc: 0.8530 - val_loss: 0.4936 - val_acc: 0.8841\n",
      "Epoch 13/1000\n",
      "30/30 [==============================] - 14s 451ms/step - loss: 0.4287 - acc: 0.8977\n",
      "\n",
      "Epoch 00013: val_loss improved from 0.49356 to 0.42871, saving model to log/model_best.h5\n",
      "\n",
      "Epoch 00013: saving model to log/model.h5\n",
      "125/125 [==============================] - 179s 1s/step - loss: 0.4235 - acc: 0.8849 - val_loss: 0.4287 - val_acc: 0.8977\n",
      "Epoch 14/1000\n",
      "30/30 [==============================] - 11s 376ms/step - loss: 0.3850 - acc: 0.9026\n",
      "\n",
      "Epoch 00014: val_loss improved from 0.42871 to 0.38502, saving model to log/model_best.h5\n",
      "\n",
      "Epoch 00014: saving model to log/model.h5\n",
      "125/125 [==============================] - 170s 1s/step - loss: 0.3635 - acc: 0.8994 - val_loss: 0.3850 - val_acc: 0.9026\n",
      "Epoch 15/1000\n",
      "30/30 [==============================] - 16s 520ms/step - loss: 0.3698 - acc: 0.9120\n",
      "\n",
      "Epoch 00015: val_loss improved from 0.38502 to 0.36975, saving model to log/model_best.h5\n",
      "\n",
      "Epoch 00015: saving model to log/model.h5\n",
      "125/125 [==============================] - 176s 1s/step - loss: 0.2995 - acc: 0.9164 - val_loss: 0.3698 - val_acc: 0.9120\n",
      "Epoch 16/1000\n",
      "30/30 [==============================] - 12s 396ms/step - loss: 0.3069 - acc: 0.9253\n",
      "\n",
      "Epoch 00016: val_loss improved from 0.36975 to 0.30686, saving model to log/model_best.h5\n",
      "\n",
      "Epoch 00016: saving model to log/model.h5\n",
      "125/125 [==============================] - 165s 1s/step - loss: 0.2622 - acc: 0.9298 - val_loss: 0.3069 - val_acc: 0.9253\n",
      "Epoch 17/1000\n",
      "30/30 [==============================] - 18s 585ms/step - loss: 0.2937 - acc: 0.9279\n",
      "\n",
      "Epoch 00017: val_loss improved from 0.30686 to 0.29372, saving model to log/model_best.h5\n",
      "\n",
      "Epoch 00017: saving model to log/model.h5\n",
      "125/125 [==============================] - 183s 1s/step - loss: 0.2280 - acc: 0.9365 - val_loss: 0.2937 - val_acc: 0.9279\n",
      "Epoch 18/1000\n",
      "30/30 [==============================] - 12s 399ms/step - loss: 0.2682 - acc: 0.9328\n",
      "\n",
      "Epoch 00018: val_loss improved from 0.29372 to 0.26822, saving model to log/model_best.h5\n",
      "\n",
      "Epoch 00018: saving model to log/model.h5\n",
      "125/125 [==============================] - 181s 1s/step - loss: 0.2043 - acc: 0.9459 - val_loss: 0.2682 - val_acc: 0.9328\n",
      "Epoch 19/1000\n",
      "30/30 [==============================] - 11s 383ms/step - loss: 0.2420 - acc: 0.9367\n",
      "\n",
      "Epoch 00019: val_loss improved from 0.26822 to 0.24204, saving model to log/model_best.h5\n",
      "\n",
      "Epoch 00019: saving model to log/model.h5\n",
      "125/125 [==============================] - 154s 1s/step - loss: 0.1653 - acc: 0.9557 - val_loss: 0.2420 - val_acc: 0.9367\n",
      "Epoch 20/1000\n",
      "30/30 [==============================] - 11s 383ms/step - loss: 0.2296 - acc: 0.9443\n",
      "\n",
      "Epoch 00020: val_loss improved from 0.24204 to 0.22956, saving model to log/model_best.h5\n",
      "\n",
      "Epoch 00020: saving model to log/model.h5\n",
      "125/125 [==============================] - 152s 1s/step - loss: 0.1445 - acc: 0.9613 - val_loss: 0.2296 - val_acc: 0.9443\n",
      "Epoch 21/1000\n",
      "30/30 [==============================] - 12s 383ms/step - loss: 0.2447 - acc: 0.9427\n",
      "\n",
      "Epoch 00021: val_loss did not improve from 0.22956\n",
      "\n",
      "Epoch 00021: saving model to log/model.h5\n",
      "125/125 [==============================] - 152s 1s/step - loss: 0.1308 - acc: 0.9653 - val_loss: 0.2447 - val_acc: 0.9427\n",
      "Epoch 22/1000\n",
      "30/30 [==============================] - 11s 383ms/step - loss: 0.2124 - acc: 0.9531\n",
      "\n",
      "Epoch 00022: val_loss improved from 0.22956 to 0.21236, saving model to log/model_best.h5\n",
      "\n",
      "Epoch 00022: saving model to log/model.h5\n",
      "125/125 [==============================] - 152s 1s/step - loss: 0.1233 - acc: 0.9688 - val_loss: 0.2124 - val_acc: 0.9531\n",
      "Epoch 23/1000\n",
      "30/30 [==============================] - 11s 368ms/step - loss: 0.1894 - acc: 0.9523\n",
      "\n",
      "Epoch 00023: val_loss improved from 0.21236 to 0.18940, saving model to log/model_best.h5\n",
      "\n",
      "Epoch 00023: saving model to log/model.h5\n"
     ]
    },
    {
     "name": "stdout",
     "output_type": "stream",
     "text": [
      "125/125 [==============================] - 148s 1s/step - loss: 0.1083 - acc: 0.9722 - val_loss: 0.1894 - val_acc: 0.9523\n",
      "Epoch 24/1000\n",
      "30/30 [==============================] - 11s 368ms/step - loss: 0.2155 - acc: 0.9464\n",
      "\n",
      "Epoch 00024: val_loss did not improve from 0.18940\n",
      "\n",
      "Epoch 00024: saving model to log/model.h5\n",
      "125/125 [==============================] - 143s 1s/step - loss: 0.0944 - acc: 0.9753 - val_loss: 0.2155 - val_acc: 0.9464\n",
      "Epoch 25/1000\n",
      "30/30 [==============================] - 11s 380ms/step - loss: 0.2345 - acc: 0.9427\n",
      "\n",
      "Epoch 00025: val_loss did not improve from 0.18940\n",
      "\n",
      "Epoch 00025: saving model to log/model.h5\n",
      "125/125 [==============================] - 144s 1s/step - loss: 0.0802 - acc: 0.9780 - val_loss: 0.2345 - val_acc: 0.9427\n",
      "Epoch 26/1000\n",
      "30/30 [==============================] - 11s 366ms/step - loss: 0.1832 - acc: 0.9542\n",
      "\n",
      "Epoch 00026: val_loss improved from 0.18940 to 0.18319, saving model to log/model_best.h5\n",
      "\n",
      "Epoch 00026: saving model to log/model.h5\n",
      "125/125 [==============================] - 143s 1s/step - loss: 0.0762 - acc: 0.9799 - val_loss: 0.1832 - val_acc: 0.9542\n",
      "Epoch 27/1000\n",
      "30/30 [==============================] - 11s 366ms/step - loss: 0.1854 - acc: 0.9552\n",
      "\n",
      "Epoch 00027: val_loss did not improve from 0.18319\n",
      "\n",
      "Epoch 00027: saving model to log/model.h5\n",
      "125/125 [==============================] - 143s 1s/step - loss: 0.0704 - acc: 0.9819 - val_loss: 0.1854 - val_acc: 0.9552\n",
      "Epoch 28/1000\n",
      "30/30 [==============================] - 12s 389ms/step - loss: 0.1826 - acc: 0.9557\n",
      "\n",
      "Epoch 00028: val_loss improved from 0.18319 to 0.18259, saving model to log/model_best.h5\n",
      "\n",
      "Epoch 00028: saving model to log/model.h5\n",
      "125/125 [==============================] - 155s 1s/step - loss: 0.0699 - acc: 0.9816 - val_loss: 0.1826 - val_acc: 0.9557\n",
      "Epoch 29/1000\n",
      "30/30 [==============================] - 12s 389ms/step - loss: 0.1784 - acc: 0.9578\n",
      "\n",
      "Epoch 00029: val_loss improved from 0.18259 to 0.17844, saving model to log/model_best.h5\n",
      "\n",
      "Epoch 00029: saving model to log/model.h5\n",
      "125/125 [==============================] - 158s 1s/step - loss: 0.0676 - acc: 0.9823 - val_loss: 0.1784 - val_acc: 0.9578\n",
      "Epoch 30/1000\n",
      "30/30 [==============================] - 15s 497ms/step - loss: 0.1701 - acc: 0.9539\n",
      "\n",
      "Epoch 00030: val_loss improved from 0.17844 to 0.17014, saving model to log/model_best.h5\n",
      "\n",
      "Epoch 00030: saving model to log/model.h5\n",
      "125/125 [==============================] - 182s 1s/step - loss: 0.0540 - acc: 0.9873 - val_loss: 0.1701 - val_acc: 0.9539\n",
      "Epoch 31/1000\n",
      "30/30 [==============================] - 13s 428ms/step - loss: 0.1961 - acc: 0.9505\n",
      "\n",
      "Epoch 00031: val_loss did not improve from 0.17014\n",
      "\n",
      "Epoch 00031: saving model to log/model.h5\n",
      "125/125 [==============================] - 180s 1s/step - loss: 0.0540 - acc: 0.9876 - val_loss: 0.1961 - val_acc: 0.9505\n",
      "Epoch 32/1000\n",
      "30/30 [==============================] - 13s 440ms/step - loss: 0.1606 - acc: 0.9607\n",
      "\n",
      "Epoch 00032: val_loss improved from 0.17014 to 0.16058, saving model to log/model_best.h5\n",
      "\n",
      "Epoch 00032: saving model to log/model.h5\n",
      "125/125 [==============================] - 180s 1s/step - loss: 0.0514 - acc: 0.9888 - val_loss: 0.1606 - val_acc: 0.9607\n",
      "Epoch 33/1000\n",
      "30/30 [==============================] - 15s 499ms/step - loss: 0.2225 - acc: 0.9495\n",
      "\n",
      "Epoch 00033: val_loss did not improve from 0.16058\n",
      "\n",
      "Epoch 00033: saving model to log/model.h5\n",
      "125/125 [==============================] - 217s 2s/step - loss: 0.0564 - acc: 0.9862 - val_loss: 0.2225 - val_acc: 0.9495\n",
      "Epoch 34/1000\n",
      "30/30 [==============================] - 13s 420ms/step - loss: 0.1757 - acc: 0.9607\n",
      "\n",
      "Epoch 00034: val_loss did not improve from 0.16058\n",
      "\n",
      "Epoch 00034: saving model to log/model.h5\n",
      "125/125 [==============================] - 189s 2s/step - loss: 0.0504 - acc: 0.9878 - val_loss: 0.1757 - val_acc: 0.9607\n",
      "Epoch 35/1000\n",
      "30/30 [==============================] - 14s 451ms/step - loss: 0.1857 - acc: 0.9555\n",
      "\n",
      "Epoch 00035: val_loss did not improve from 0.16058\n",
      "\n",
      "Epoch 00035: saving model to log/model.h5\n",
      "125/125 [==============================] - 197s 2s/step - loss: 0.0557 - acc: 0.9883 - val_loss: 0.1857 - val_acc: 0.9555\n",
      "Epoch 36/1000\n",
      " 74/125 [================>.............] - ETA: 1:25 - loss: 0.0466 - acc: 0.9893"
     ]
    },
    {
     "ename": "KeyboardInterrupt",
     "evalue": "",
     "output_type": "error",
     "traceback": [
      "\u001b[0;31m---------------------------------------------------------------------------\u001b[0m",
      "\u001b[0;31mKeyboardInterrupt\u001b[0m                         Traceback (most recent call last)",
      "\u001b[0;32m<ipython-input-7-1c3541d3e3e0>\u001b[0m in \u001b[0;36m<module>\u001b[0;34m\u001b[0m\n\u001b[1;32m     12\u001b[0m                           \u001b[0mcallbacks\u001b[0m\u001b[0;34m=\u001b[0m\u001b[0mcallbacks\u001b[0m\u001b[0;34m,\u001b[0m\u001b[0;34m\u001b[0m\u001b[0;34m\u001b[0m\u001b[0m\n\u001b[1;32m     13\u001b[0m                           \u001b[0mshuffle\u001b[0m\u001b[0;34m=\u001b[0m\u001b[0;32mFalse\u001b[0m\u001b[0;34m,\u001b[0m\u001b[0;34m\u001b[0m\u001b[0;34m\u001b[0m\u001b[0m\n\u001b[0;32m---> 14\u001b[0;31m                           initial_epoch=0)\n\u001b[0m\u001b[1;32m     15\u001b[0m \u001b[0;34m\u001b[0m\u001b[0m\n\u001b[1;32m     16\u001b[0m \u001b[0;31m# 多核使用\u001b[0m\u001b[0;34m\u001b[0m\u001b[0;34m\u001b[0m\u001b[0;34m\u001b[0m\u001b[0m\n",
      "\u001b[0;32m~/Applications/anaconda3/lib/python3.7/site-packages/tensorflow/python/keras/engine/training.py\u001b[0m in \u001b[0;36mfit\u001b[0;34m(self, x, y, batch_size, epochs, verbose, callbacks, validation_split, validation_data, shuffle, class_weight, sample_weight, initial_epoch, steps_per_epoch, validation_steps, max_queue_size, workers, use_multiprocessing, **kwargs)\u001b[0m\n\u001b[1;32m    735\u001b[0m           \u001b[0muse_multiprocessing\u001b[0m\u001b[0;34m=\u001b[0m\u001b[0muse_multiprocessing\u001b[0m\u001b[0;34m,\u001b[0m\u001b[0;34m\u001b[0m\u001b[0;34m\u001b[0m\u001b[0m\n\u001b[1;32m    736\u001b[0m           \u001b[0mshuffle\u001b[0m\u001b[0;34m=\u001b[0m\u001b[0mshuffle\u001b[0m\u001b[0;34m,\u001b[0m\u001b[0;34m\u001b[0m\u001b[0;34m\u001b[0m\u001b[0m\n\u001b[0;32m--> 737\u001b[0;31m           initial_epoch=initial_epoch)\n\u001b[0m\u001b[1;32m    738\u001b[0m \u001b[0;34m\u001b[0m\u001b[0m\n\u001b[1;32m    739\u001b[0m     \u001b[0;31m# Legacy support\u001b[0m\u001b[0;34m\u001b[0m\u001b[0;34m\u001b[0m\u001b[0;34m\u001b[0m\u001b[0m\n",
      "\u001b[0;32m~/Applications/anaconda3/lib/python3.7/site-packages/tensorflow/python/keras/engine/training.py\u001b[0m in \u001b[0;36mfit_generator\u001b[0;34m(self, generator, steps_per_epoch, epochs, verbose, callbacks, validation_data, validation_steps, class_weight, max_queue_size, workers, use_multiprocessing, shuffle, initial_epoch)\u001b[0m\n\u001b[1;32m   1424\u001b[0m         \u001b[0muse_multiprocessing\u001b[0m\u001b[0;34m=\u001b[0m\u001b[0muse_multiprocessing\u001b[0m\u001b[0;34m,\u001b[0m\u001b[0;34m\u001b[0m\u001b[0;34m\u001b[0m\u001b[0m\n\u001b[1;32m   1425\u001b[0m         \u001b[0mshuffle\u001b[0m\u001b[0;34m=\u001b[0m\u001b[0mshuffle\u001b[0m\u001b[0;34m,\u001b[0m\u001b[0;34m\u001b[0m\u001b[0;34m\u001b[0m\u001b[0m\n\u001b[0;32m-> 1426\u001b[0;31m         initial_epoch=initial_epoch)\n\u001b[0m\u001b[1;32m   1427\u001b[0m \u001b[0;34m\u001b[0m\u001b[0m\n\u001b[1;32m   1428\u001b[0m   def evaluate_generator(self,\n",
      "\u001b[0;32m~/Applications/anaconda3/lib/python3.7/site-packages/tensorflow/python/keras/engine/training_generator.py\u001b[0m in \u001b[0;36mmodel_iteration\u001b[0;34m(model, data, steps_per_epoch, epochs, verbose, callbacks, validation_data, validation_steps, class_weight, max_queue_size, workers, use_multiprocessing, shuffle, initial_epoch, mode, batch_size, **kwargs)\u001b[0m\n\u001b[1;32m    189\u001b[0m       \u001b[0mprogbar\u001b[0m\u001b[0;34m.\u001b[0m\u001b[0mon_batch_begin\u001b[0m\u001b[0;34m(\u001b[0m\u001b[0mstep\u001b[0m\u001b[0;34m,\u001b[0m \u001b[0mbatch_logs\u001b[0m\u001b[0;34m)\u001b[0m\u001b[0;34m\u001b[0m\u001b[0;34m\u001b[0m\u001b[0m\n\u001b[1;32m    190\u001b[0m \u001b[0;34m\u001b[0m\u001b[0m\n\u001b[0;32m--> 191\u001b[0;31m       \u001b[0mbatch_outs\u001b[0m \u001b[0;34m=\u001b[0m \u001b[0mbatch_function\u001b[0m\u001b[0;34m(\u001b[0m\u001b[0;34m*\u001b[0m\u001b[0mbatch_data\u001b[0m\u001b[0;34m)\u001b[0m\u001b[0;34m\u001b[0m\u001b[0;34m\u001b[0m\u001b[0m\n\u001b[0m\u001b[1;32m    192\u001b[0m       \u001b[0;32mif\u001b[0m \u001b[0;32mnot\u001b[0m \u001b[0misinstance\u001b[0m\u001b[0;34m(\u001b[0m\u001b[0mbatch_outs\u001b[0m\u001b[0;34m,\u001b[0m \u001b[0mlist\u001b[0m\u001b[0;34m)\u001b[0m\u001b[0;34m:\u001b[0m\u001b[0;34m\u001b[0m\u001b[0;34m\u001b[0m\u001b[0m\n\u001b[1;32m    193\u001b[0m         \u001b[0mbatch_outs\u001b[0m \u001b[0;34m=\u001b[0m \u001b[0;34m[\u001b[0m\u001b[0mbatch_outs\u001b[0m\u001b[0;34m]\u001b[0m\u001b[0;34m\u001b[0m\u001b[0;34m\u001b[0m\u001b[0m\n",
      "\u001b[0;32m~/Applications/anaconda3/lib/python3.7/site-packages/tensorflow/python/keras/engine/training.py\u001b[0m in \u001b[0;36mtrain_on_batch\u001b[0;34m(self, x, y, sample_weight, class_weight, reset_metrics)\u001b[0m\n\u001b[1;32m   1189\u001b[0m       \u001b[0;32melse\u001b[0m\u001b[0;34m:\u001b[0m\u001b[0;34m\u001b[0m\u001b[0;34m\u001b[0m\u001b[0m\n\u001b[1;32m   1190\u001b[0m         \u001b[0mself\u001b[0m\u001b[0;34m.\u001b[0m\u001b[0m_make_fit_function\u001b[0m\u001b[0;34m(\u001b[0m\u001b[0;34m)\u001b[0m\u001b[0;34m\u001b[0m\u001b[0;34m\u001b[0m\u001b[0m\n\u001b[0;32m-> 1191\u001b[0;31m         \u001b[0moutputs\u001b[0m \u001b[0;34m=\u001b[0m \u001b[0mself\u001b[0m\u001b[0;34m.\u001b[0m\u001b[0m_fit_function\u001b[0m\u001b[0;34m(\u001b[0m\u001b[0mins\u001b[0m\u001b[0;34m)\u001b[0m  \u001b[0;31m# pylint: disable=not-callable\u001b[0m\u001b[0;34m\u001b[0m\u001b[0;34m\u001b[0m\u001b[0m\n\u001b[0m\u001b[1;32m   1192\u001b[0m \u001b[0;34m\u001b[0m\u001b[0m\n\u001b[1;32m   1193\u001b[0m     \u001b[0;32mif\u001b[0m \u001b[0mreset_metrics\u001b[0m\u001b[0;34m:\u001b[0m\u001b[0;34m\u001b[0m\u001b[0;34m\u001b[0m\u001b[0m\n",
      "\u001b[0;32m~/Applications/anaconda3/lib/python3.7/site-packages/tensorflow/python/keras/backend.py\u001b[0m in \u001b[0;36m__call__\u001b[0;34m(self, inputs)\u001b[0m\n\u001b[1;32m   3074\u001b[0m \u001b[0;34m\u001b[0m\u001b[0m\n\u001b[1;32m   3075\u001b[0m     fetched = self._callable_fn(*array_vals,\n\u001b[0;32m-> 3076\u001b[0;31m                                 run_metadata=self.run_metadata)\n\u001b[0m\u001b[1;32m   3077\u001b[0m     \u001b[0mself\u001b[0m\u001b[0;34m.\u001b[0m\u001b[0m_call_fetch_callbacks\u001b[0m\u001b[0;34m(\u001b[0m\u001b[0mfetched\u001b[0m\u001b[0;34m[\u001b[0m\u001b[0;34m-\u001b[0m\u001b[0mlen\u001b[0m\u001b[0;34m(\u001b[0m\u001b[0mself\u001b[0m\u001b[0;34m.\u001b[0m\u001b[0m_fetches\u001b[0m\u001b[0;34m)\u001b[0m\u001b[0;34m:\u001b[0m\u001b[0;34m]\u001b[0m\u001b[0;34m)\u001b[0m\u001b[0;34m\u001b[0m\u001b[0;34m\u001b[0m\u001b[0m\n\u001b[1;32m   3078\u001b[0m     return nest.pack_sequence_as(self._outputs_structure,\n",
      "\u001b[0;32m~/Applications/anaconda3/lib/python3.7/site-packages/tensorflow/python/client/session.py\u001b[0m in \u001b[0;36m__call__\u001b[0;34m(self, *args, **kwargs)\u001b[0m\n\u001b[1;32m   1437\u001b[0m           ret = tf_session.TF_SessionRunCallable(\n\u001b[1;32m   1438\u001b[0m               \u001b[0mself\u001b[0m\u001b[0;34m.\u001b[0m\u001b[0m_session\u001b[0m\u001b[0;34m.\u001b[0m\u001b[0m_session\u001b[0m\u001b[0;34m,\u001b[0m \u001b[0mself\u001b[0m\u001b[0;34m.\u001b[0m\u001b[0m_handle\u001b[0m\u001b[0;34m,\u001b[0m \u001b[0margs\u001b[0m\u001b[0;34m,\u001b[0m \u001b[0mstatus\u001b[0m\u001b[0;34m,\u001b[0m\u001b[0;34m\u001b[0m\u001b[0;34m\u001b[0m\u001b[0m\n\u001b[0;32m-> 1439\u001b[0;31m               run_metadata_ptr)\n\u001b[0m\u001b[1;32m   1440\u001b[0m         \u001b[0;32mif\u001b[0m \u001b[0mrun_metadata\u001b[0m\u001b[0;34m:\u001b[0m\u001b[0;34m\u001b[0m\u001b[0;34m\u001b[0m\u001b[0m\n\u001b[1;32m   1441\u001b[0m           \u001b[0mproto_data\u001b[0m \u001b[0;34m=\u001b[0m \u001b[0mtf_session\u001b[0m\u001b[0;34m.\u001b[0m\u001b[0mTF_GetBuffer\u001b[0m\u001b[0;34m(\u001b[0m\u001b[0mrun_metadata_ptr\u001b[0m\u001b[0;34m)\u001b[0m\u001b[0;34m\u001b[0m\u001b[0;34m\u001b[0m\u001b[0m\n",
      "\u001b[0;31mKeyboardInterrupt\u001b[0m: "
     ]
    }
   ],
   "source": [
    "# 加载模型\n",
    "from tensorflow.keras.models import load_model\n",
    "# model = load_model('log/model.h5')\n",
    "\n",
    "# 训练模型\n",
    "log = model.fit(gen(trainDir),\n",
    "                          steps_per_epoch=125,\n",
    "                          epochs=50,\n",
    "                          workers=1,\n",
    "                          validation_data=gen(valDir),\n",
    "                          validation_steps=30,\n",
    "                          callbacks=callbacks,\n",
    "                          shuffle=False,\n",
    "                          initial_epoch=0)\n"
   ]
  },
  {
   "cell_type": "code",
   "execution_count": null,
   "metadata": {
    "ExecuteTime": {
     "end_time": "2020-09-05T17:31:37.465743Z",
     "start_time": "2020-09-05T15:46:59.830Z"
    }
   },
   "outputs": [],
   "source": [
    "# log.history"
   ]
  },
  {
   "cell_type": "code",
   "execution_count": 8,
   "metadata": {
    "ExecuteTime": {
     "end_time": "2020-09-05T17:31:52.019619Z",
     "start_time": "2020-09-05T17:31:51.814775Z"
    }
   },
   "outputs": [],
   "source": [
    "model.save('log/model.h5')"
   ]
  },
  {
   "cell_type": "code",
   "execution_count": 38,
   "metadata": {
    "ExecuteTime": {
     "end_time": "2020-09-05T17:40:07.892290Z",
     "start_time": "2020-09-05T17:40:07.884441Z"
    }
   },
   "outputs": [],
   "source": [
    "def decode(y):\n",
    "\n",
    "    # 找出最大概率\n",
    "    y = np.argmax(np.array(y),axis=2)[0]\n",
    "    \n",
    "    return ''.join([characters[x] for x in y])\n",
    "\n",
    "def test():\n",
    "    # 读取图片\n",
    "    imgBuffer = cv2.imread(testDir+'/23.png', 0)\n",
    "    # 调整大小\n",
    "    imgBuffer = cv2.resize(imgBuffer, (width, height))\n",
    "\n",
    "    plt.imshow(imgBuffer, cmap = 'gray')\n",
    "    plt.show()\n",
    "    # 拓展维度\n",
    "    imgBuffer = np.expand_dims(imgBuffer, axis = 0)\n",
    "    imgBuffer = np.expand_dims(imgBuffer, axis = 3)\n",
    "    \n",
    "    # 对比度拉伸\n",
    "    minX = imgBuffer.min()\n",
    "    imgBuffer = imgBuffer - minX\n",
    "    maxX = max(1, imgBuffer.max())\n",
    "    # 将对比度拉伸到0-255范围内\n",
    "#     imgBuffer = np.array(imgBuffer * (255 / maxX), np.uint8)\n",
    "    imgBuffer = np.array(imgBuffer / maxX, np.float16)\n",
    "    \n",
    "    # 返回结果\n",
    "    return decode(model.predict(imgBuffer))"
   ]
  },
  {
   "cell_type": "code",
   "execution_count": 39,
   "metadata": {
    "ExecuteTime": {
     "end_time": "2020-09-05T17:40:08.832745Z",
     "start_time": "2020-09-05T17:40:08.562504Z"
    }
   },
   "outputs": [
    {
     "data": {
      "image/png": "[encoded data removed]",
      "text/plain": [
       "<Figure size 432x288 with 1 Axes>"
      ]
     },
     "metadata": {
      "needs_background": "light"
     },
     "output_type": "display_data"
    },
    {
     "data": {
      "text/plain": [
       "'E09m'"
      ]
     },
     "execution_count": 39,
     "metadata": {},
     "output_type": "execute_result"
    }
   ],
   "source": [
    "test()"
   ]
  },
  {
   "cell_type": "code",
   "execution_count": 60,
   "metadata": {
    "ExecuteTime": {
     "end_time": "2020-09-05T17:43:03.302211Z",
     "start_time": "2020-09-05T17:43:03.278097Z"
    }
   },
   "outputs": [],
   "source": [
    "from tqdm import tqdm\n",
    "def evaluate(model, batch_num=30):\n",
    "    batch_acc = 0\n",
    "    generator = gen(valDir)\n",
    "    for i in tqdm(range(batch_num)):\n",
    "        X, y = next(generator)\n",
    "        y_pred = model.predict(X)\n",
    "        y_pred = np.argmax(y_pred, axis=2)\n",
    "        y_true = np.argmax(y, axis=2)\n",
    "        batch_acc += np.mean(list(map(np.array_equal, y_true, y_pred)))\n",
    "    return batch_acc / batch_num"
   ]
  },
  {
   "cell_type": "code",
   "execution_count": 61,
   "metadata": {
    "ExecuteTime": {
     "end_time": "2020-09-05T17:43:16.544620Z",
     "start_time": "2020-09-05T17:43:03.747668Z"
    },
    "scrolled": true
   },
   "outputs": [
    {
     "name": "stderr",
     "output_type": "stream",
     "text": [
      "100%|██████████| 30/30 [00:12<00:00,  2.36it/s]\n"
     ]
    },
    {
     "data": {
      "text/plain": [
       "0.878125"
      ]
     },
     "execution_count": 61,
     "metadata": {},
     "output_type": "execute_result"
    }
   ],
   "source": [
    "evaluate(model)"
   ]
  },
  {
   "cell_type": "code",
   "execution_count": null,
   "metadata": {},
   "outputs": [],
   "source": []
  }
 ],
 "metadata": {
  "kernelspec": {
   "display_name": "Python 3",
   "language": "python",
   "name": "python3"
  },
  "language_info": {
   "codemirror_mode": {
    "name": "ipython",
    "version": 3
   },
   "file_extension": ".py",
   "mimetype": "text/x-python",
   "name": "python",
   "nbconvert_exporter": "python",
   "pygments_lexer": "ipython3",
   "version": "3.7.2"
  },
  "toc": {
   "base_numbering": 1,
   "nav_menu": {},
   "number_sections": true,
   "sideBar": true,
   "skip_h1_title": false,
   "title_cell": "Table of Contents",
   "title_sidebar": "Contents",
   "toc_cell": false,
   "toc_position": {},
   "toc_section_display": true,
   "toc_window_display": false
  },
  "varInspector": {
   "cols": {
    "lenName": 16,
    "lenType": 16,
    "lenVar": 40
   },
   "kernels_config": {
    "python": {
     "delete_cmd_postfix": "",
     "delete_cmd_prefix": "del ",
     "library": "var_list.py",
     "varRefreshCmd": "print(var_dic_list())"
    },
    "r": {
     "delete_cmd_postfix": ") ",
     "delete_cmd_prefix": "rm(",
     "library": "var_list.r",
     "varRefreshCmd": "cat(var_dic_list()) "
    }
   },
   "types_to_exclude": [
    "module",
    "function",
    "builtin_function_or_method",
    "instance",
    "_Feature"
   ],
   "window_display": false
  }
 },
 "nbformat": 4,
 "nbformat_minor": 2
}
